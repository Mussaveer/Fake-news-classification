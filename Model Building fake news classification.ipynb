{
 "cells": [
  {
   "cell_type": "code",
   "execution_count": 1,
   "metadata": {},
   "outputs": [
    {
     "name": "stderr",
     "output_type": "stream",
     "text": [
      "C:\\Users\\mussa\\anaconda3\\lib\\site-packages\\gensim\\similarities\\__init__.py:15: UserWarning: The gensim.similarities.levenshtein submodule is disabled, because the optional Levenshtein package <https://pypi.org/project/python-Levenshtein/> is unavailable. Install Levenhstein (e.g. `pip install python-Levenshtein`) to suppress this warning.\n",
      "  warnings.warn(msg)\n"
     ]
    }
   ],
   "source": [
    "import pandas as pd\n",
    "from gensim.models import Word2Vec\n",
    "import matplotlib.pyplot as plt\n",
    "from sklearn.model_selection import train_test_split\n",
    "from sklearn.metrics import plot_roc_curve\n",
    "\n",
    "from sklearn.metrics import roc_curve\n",
    "from sklearn.metrics import roc_auc_score\n",
    "\n",
    "from tensorflow.keras.preprocessing.text import Tokenizer\n",
    "from tensorflow.keras.preprocessing.sequence import pad_sequences\n",
    "\n",
    "import tensorflow as tf\n",
    "from tensorflow.keras.models import Sequential\n",
    "from tensorflow.keras.layers import Embedding, LSTM, Dense, Dropout, GlobalMaxPooling1D\n",
    "from tensorflow.keras.optimizers import Adam\n",
    "from tensorflow.keras.callbacks import EarlyStopping\n",
    "\n",
    "\n",
    "\n",
    "import warnings\n",
    "warnings.filterwarnings('ignore')"
   ]
  },
  {
   "cell_type": "code",
   "execution_count": 2,
   "metadata": {},
   "outputs": [
    {
     "data": {
      "text/html": [
       "<div>\n",
       "<style scoped>\n",
       "    .dataframe tbody tr th:only-of-type {\n",
       "        vertical-align: middle;\n",
       "    }\n",
       "\n",
       "    .dataframe tbody tr th {\n",
       "        vertical-align: top;\n",
       "    }\n",
       "\n",
       "    .dataframe thead th {\n",
       "        text-align: right;\n",
       "    }\n",
       "</style>\n",
       "<table border=\"1\" class=\"dataframe\">\n",
       "  <thead>\n",
       "    <tr style=\"text-align: right;\">\n",
       "      <th></th>\n",
       "      <th>index</th>\n",
       "      <th>id</th>\n",
       "      <th>headline</th>\n",
       "      <th>written_by</th>\n",
       "      <th>news</th>\n",
       "      <th>label</th>\n",
       "      <th>cleaned_news</th>\n",
       "      <th>Length</th>\n",
       "      <th>Cleaned_length</th>\n",
       "      <th>cleaned_headline</th>\n",
       "      <th>cleaned_by</th>\n",
       "      <th>word_count_n</th>\n",
       "      <th>word_count_cn</th>\n",
       "    </tr>\n",
       "  </thead>\n",
       "  <tbody>\n",
       "    <tr>\n",
       "      <th>0</th>\n",
       "      <td>0</td>\n",
       "      <td>9653</td>\n",
       "      <td>Ethics Questions Dogged Agriculture Nominee as...</td>\n",
       "      <td>Eric Lipton and Steve Eder</td>\n",
       "      <td>WASHINGTON  —   In Sonny Perdue’s telling, Geo...</td>\n",
       "      <td>0</td>\n",
       "      <td>washington sonny perdue telling georgian growi...</td>\n",
       "      <td>7936</td>\n",
       "      <td>5255</td>\n",
       "      <td>ethics questions dogged agriculture nominee as...</td>\n",
       "      <td>eric lipton and steve eder</td>\n",
       "      <td>1342</td>\n",
       "      <td>724</td>\n",
       "    </tr>\n",
       "    <tr>\n",
       "      <th>1</th>\n",
       "      <td>1</td>\n",
       "      <td>10041</td>\n",
       "      <td>U.S. Must Dig Deep to Stop Argentina’s Lionel ...</td>\n",
       "      <td>David Waldstein</td>\n",
       "      <td>HOUSTON  —   Venezuela had a plan. It was a ta...</td>\n",
       "      <td>0</td>\n",
       "      <td>houston venezuela plan tactical approach desig...</td>\n",
       "      <td>6112</td>\n",
       "      <td>3948</td>\n",
       "      <td>u.s. must dig deep to stop argentina’s lionel ...</td>\n",
       "      <td>david waldstein</td>\n",
       "      <td>1050</td>\n",
       "      <td>575</td>\n",
       "    </tr>\n",
       "    <tr>\n",
       "      <th>2</th>\n",
       "      <td>2</td>\n",
       "      <td>19113</td>\n",
       "      <td>Cotton to House: ’Do Not Walk the Plank and Vo...</td>\n",
       "      <td>Pam Key</td>\n",
       "      <td>Sunday on ABC’s “This Week,” while discussing ...</td>\n",
       "      <td>0</td>\n",
       "      <td>sunday abc week discussing republican plan rep...</td>\n",
       "      <td>425</td>\n",
       "      <td>275</td>\n",
       "      <td>cotton to house: ’do not walk the plank and vo...</td>\n",
       "      <td>pam key</td>\n",
       "      <td>80</td>\n",
       "      <td>42</td>\n",
       "    </tr>\n",
       "    <tr>\n",
       "      <th>3</th>\n",
       "      <td>3</td>\n",
       "      <td>6868</td>\n",
       "      <td>Paul LePage, Besieged Maine Governor, Sends Co...</td>\n",
       "      <td>Jess Bidgood</td>\n",
       "      <td>AUGUSTA, Me.  —   The beleaguered Republican g...</td>\n",
       "      <td>0</td>\n",
       "      <td>augusta beleaguered republican governor maine ...</td>\n",
       "      <td>6516</td>\n",
       "      <td>4334</td>\n",
       "      <td>paul lepage, besieged maine governor, sends co...</td>\n",
       "      <td>jess bidgood</td>\n",
       "      <td>1103</td>\n",
       "      <td>592</td>\n",
       "    </tr>\n",
       "    <tr>\n",
       "      <th>4</th>\n",
       "      <td>4</td>\n",
       "      <td>7596</td>\n",
       "      <td>A Digital 9/11 If Trump Wins</td>\n",
       "      <td>Finian Cunningham</td>\n",
       "      <td>Finian Cunningham has written extensively on...</td>\n",
       "      <td>1</td>\n",
       "      <td>finian cunningham written extensively internat...</td>\n",
       "      <td>9164</td>\n",
       "      <td>6522</td>\n",
       "      <td>a digital 9/11 if trump wins</td>\n",
       "      <td>finian cunningham</td>\n",
       "      <td>1442</td>\n",
       "      <td>859</td>\n",
       "    </tr>\n",
       "  </tbody>\n",
       "</table>\n",
       "</div>"
      ],
      "text/plain": [
       "   index     id                                           headline  \\\n",
       "0      0   9653  Ethics Questions Dogged Agriculture Nominee as...   \n",
       "1      1  10041  U.S. Must Dig Deep to Stop Argentina’s Lionel ...   \n",
       "2      2  19113  Cotton to House: ’Do Not Walk the Plank and Vo...   \n",
       "3      3   6868  Paul LePage, Besieged Maine Governor, Sends Co...   \n",
       "4      4   7596                       A Digital 9/11 If Trump Wins   \n",
       "\n",
       "                   written_by  \\\n",
       "0  Eric Lipton and Steve Eder   \n",
       "1             David Waldstein   \n",
       "2                     Pam Key   \n",
       "3                Jess Bidgood   \n",
       "4           Finian Cunningham   \n",
       "\n",
       "                                                news  label  \\\n",
       "0  WASHINGTON  —   In Sonny Perdue’s telling, Geo...      0   \n",
       "1  HOUSTON  —   Venezuela had a plan. It was a ta...      0   \n",
       "2  Sunday on ABC’s “This Week,” while discussing ...      0   \n",
       "3  AUGUSTA, Me.  —   The beleaguered Republican g...      0   \n",
       "4    Finian Cunningham has written extensively on...      1   \n",
       "\n",
       "                                        cleaned_news  Length  Cleaned_length  \\\n",
       "0  washington sonny perdue telling georgian growi...    7936            5255   \n",
       "1  houston venezuela plan tactical approach desig...    6112            3948   \n",
       "2  sunday abc week discussing republican plan rep...     425             275   \n",
       "3  augusta beleaguered republican governor maine ...    6516            4334   \n",
       "4  finian cunningham written extensively internat...    9164            6522   \n",
       "\n",
       "                                    cleaned_headline  \\\n",
       "0  ethics questions dogged agriculture nominee as...   \n",
       "1  u.s. must dig deep to stop argentina’s lionel ...   \n",
       "2  cotton to house: ’do not walk the plank and vo...   \n",
       "3  paul lepage, besieged maine governor, sends co...   \n",
       "4                       a digital 9/11 if trump wins   \n",
       "\n",
       "                   cleaned_by  word_count_n  word_count_cn  \n",
       "0  eric lipton and steve eder          1342            724  \n",
       "1             david waldstein          1050            575  \n",
       "2                     pam key            80             42  \n",
       "3                jess bidgood          1103            592  \n",
       "4           finian cunningham          1442            859  "
      ]
     },
     "execution_count": 2,
     "metadata": {},
     "output_type": "execute_result"
    }
   ],
   "source": [
    "df= pd.read_csv('Final.csv')\n",
    "df.head()"
   ]
  },
  {
   "cell_type": "markdown",
   "metadata": {},
   "source": [
    "## Combining 'Headline', 'News', 'Written by' for better accuracy"
   ]
  },
  {
   "cell_type": "code",
   "execution_count": 3,
   "metadata": {},
   "outputs": [],
   "source": [
    "X = df['cleaned_headline'] + '  ' + df['cleaned_news'] + '  ' + df['cleaned_by']\n",
    "y = df['label']"
   ]
  },
  {
   "cell_type": "code",
   "execution_count": 4,
   "metadata": {},
   "outputs": [
    {
     "data": {
      "image/png": "[encoded data removed]",
      "text/plain": [
       "<Figure size 432x288 with 1 Axes>"
      ]
     },
     "metadata": {
      "needs_background": "light"
     },
     "output_type": "display_data"
    }
   ],
   "source": [
    "plt.hist([len(x.split()) for x in X], bins = 700);"
   ]
  },
  {
   "cell_type": "code",
   "execution_count": 5,
   "metadata": {},
   "outputs": [
    {
     "data": {
      "text/plain": [
       "12076"
      ]
     },
     "execution_count": 5,
     "metadata": {},
     "output_type": "execute_result"
    }
   ],
   "source": [
    "#maximum length in train dataset \n",
    "max_length = X.map(lambda x: len(x.split())).max()\n",
    "max_length                   "
   ]
  },
  {
   "cell_type": "markdown",
   "metadata": {},
   "source": [
    "## Tokenization and padding"
   ]
  },
  {
   "cell_type": "code",
   "execution_count": 6,
   "metadata": {},
   "outputs": [],
   "source": [
    "vocab_size = 10000\n",
    "\n",
    "#fit tokenizer\n",
    "tok = Tokenizer(num_words = vocab_size)\n",
    "tok.fit_on_texts(X)\n",
    "\n",
    "#tokenize data\n",
    "X = tok.texts_to_sequences(X)\n",
    "\n",
    "#Pad data\n",
    "X = pad_sequences(X, maxlen = max_length, padding= 'pre' )"
   ]
  },
  {
   "cell_type": "markdown",
   "metadata": {},
   "source": [
    "## Building model"
   ]
  },
  {
   "cell_type": "code",
   "execution_count": 7,
   "metadata": {},
   "outputs": [],
   "source": [
    "model = Sequential([\n",
    "        Embedding(vocab_size, output_dim=100, input_length=max_length),\n",
    "        LSTM(units=128, return_sequences=True),\n",
    "        LSTM(units=64, return_sequences=True),\n",
    "        GlobalMaxPooling1D(),\n",
    "        Dense(units=64),\n",
    "        Dropout(0.25),\n",
    "        Dense(units=16),\n",
    "        Dropout(0.25),\n",
    "        Dense(units = 8),\n",
    "        Dropout(0.25),\n",
    "        Dense(units=1, activation='sigmoid')\n",
    "    ])\n",
    "\n",
    "model.compile(\n",
    "        loss='binary_crossentropy',\n",
    "        optimizer='adam',\n",
    "        metrics=['accuracy'])\n",
    "    "
   ]
  },
  {
   "cell_type": "code",
   "execution_count": 8,
   "metadata": {},
   "outputs": [
    {
     "name": "stdout",
     "output_type": "stream",
     "text": [
      "Model: \"sequential\"\n",
      "_________________________________________________________________\n",
      "Layer (type)                 Output Shape              Param #   \n",
      "=================================================================\n",
      "embedding (Embedding)        (None, 12076, 100)        1000000   \n",
      "_________________________________________________________________\n",
      "lstm (LSTM)                  (None, 12076, 128)        117248    \n",
      "_________________________________________________________________\n",
      "lstm_1 (LSTM)                (None, 12076, 64)         49408     \n",
      "_________________________________________________________________\n",
      "global_max_pooling1d (Global (None, 64)                0         \n",
      "_________________________________________________________________\n",
      "dense (Dense)                (None, 64)                4160      \n",
      "_________________________________________________________________\n",
      "dropout (Dropout)            (None, 64)                0         \n",
      "_________________________________________________________________\n",
      "dense_1 (Dense)              (None, 16)                1040      \n",
      "_________________________________________________________________\n",
      "dropout_1 (Dropout)          (None, 16)                0         \n",
      "_________________________________________________________________\n",
      "dense_2 (Dense)              (None, 8)                 136       \n",
      "_________________________________________________________________\n",
      "dropout_2 (Dropout)          (None, 8)                 0         \n",
      "_________________________________________________________________\n",
      "dense_3 (Dense)              (None, 1)                 9         \n",
      "=================================================================\n",
      "Total params: 1,172,001\n",
      "Trainable params: 1,172,001\n",
      "Non-trainable params: 0\n",
      "_________________________________________________________________\n"
     ]
    }
   ],
   "source": [
    "model.summary()"
   ]
  },
  {
   "cell_type": "markdown",
   "metadata": {},
   "source": [
    "## Fitting model"
   ]
  },
  {
   "cell_type": "code",
   "execution_count": 9,
   "metadata": {},
   "outputs": [],
   "source": [
    "import numpy as np"
   ]
  },
  {
   "cell_type": "code",
   "execution_count": 10,
   "metadata": {},
   "outputs": [],
   "source": [
    "X = np.array(X)\n",
    "y = np.array(y)"
   ]
  },
  {
   "cell_type": "code",
   "execution_count": 11,
   "metadata": {},
   "outputs": [],
   "source": [
    "X_train, X_test, y_train, y_test = train_test_split(X,\n",
    "                                                   y,\n",
    "                                                   test_size = 0.2)"
   ]
  },
  {
   "cell_type": "code",
   "execution_count": 12,
   "metadata": {},
   "outputs": [
    {
     "data": {
      "text/plain": [
       "(16106, 12076)"
      ]
     },
     "execution_count": 12,
     "metadata": {},
     "output_type": "execute_result"
    }
   ],
   "source": [
    "X_train.shape"
   ]
  },
  {
   "cell_type": "code",
   "execution_count": 13,
   "metadata": {},
   "outputs": [
    {
     "name": "stdout",
     "output_type": "stream",
     "text": [
      "Epoch 1/5\n",
      "1007/1007 [==============================] - 919s 906ms/step - loss: 0.2100 - accuracy: 0.9133 - val_loss: 0.0691 - val_accuracy: 0.9809\n",
      "Epoch 2/5\n",
      "1007/1007 [==============================] - 908s 902ms/step - loss: 0.0461 - accuracy: 0.9868 - val_loss: 0.0511 - val_accuracy: 0.9844\n",
      "Epoch 3/5\n",
      "1007/1007 [==============================] - 912s 906ms/step - loss: 0.0120 - accuracy: 0.9971 - val_loss: 0.0862 - val_accuracy: 0.9811\n",
      "Epoch 4/5\n",
      "1007/1007 [==============================] - 909s 903ms/step - loss: 0.0132 - accuracy: 0.9962 - val_loss: 0.0571 - val_accuracy: 0.9846\n",
      "Epoch 5/5\n",
      "1007/1007 [==============================] - 933s 927ms/step - loss: 0.0084 - accuracy: 0.9978 - val_loss: 0.0620 - val_accuracy: 0.9866\n"
     ]
    },
    {
     "data": {
      "text/plain": [
       "<tensorflow.python.keras.callbacks.History at 0x1f2db3fa8b0>"
      ]
     },
     "execution_count": 13,
     "metadata": {},
     "output_type": "execute_result"
    }
   ],
   "source": [
    "model.fit(X_train,\n",
    "         y_train,\n",
    "         epochs = 5,\n",
    "         validation_data= (X_test, y_test),\n",
    "         batch_size = 16,\n",
    "         verbose = True)"
   ]
  },
  {
   "cell_type": "code",
   "execution_count": 14,
   "metadata": {},
   "outputs": [],
   "source": [
    "y_pred = (model.predict(X_test)>= 0.5).astype('int')"
   ]
  },
  {
   "cell_type": "code",
   "execution_count": 15,
   "metadata": {},
   "outputs": [
    {
     "name": "stdout",
     "output_type": "stream",
     "text": [
      "[[0]\n",
      " [1]\n",
      " [1]\n",
      " ...\n",
      " [1]\n",
      " [0]\n",
      " [1]]\n"
     ]
    }
   ],
   "source": [
    "print(y_pred)"
   ]
  },
  {
   "cell_type": "code",
   "execution_count": 16,
   "metadata": {},
   "outputs": [
    {
     "data": {
      "text/plain": [
       "array([0, 1, 1, ..., 1, 0, 1], dtype=int64)"
      ]
     },
     "execution_count": 16,
     "metadata": {},
     "output_type": "execute_result"
    }
   ],
   "source": [
    "y_test"
   ]
  },
  {
   "cell_type": "code",
   "execution_count": 17,
   "metadata": {},
   "outputs": [],
   "source": [
    "from sklearn.metrics import classification_report"
   ]
  },
  {
   "cell_type": "code",
   "execution_count": 18,
   "metadata": {},
   "outputs": [
    {
     "name": "stdout",
     "output_type": "stream",
     "text": [
      "              precision    recall  f1-score   support\n",
      "\n",
      "           0       0.99      0.98      0.99      2049\n",
      "           1       0.98      0.99      0.99      1978\n",
      "\n",
      "    accuracy                           0.99      4027\n",
      "   macro avg       0.99      0.99      0.99      4027\n",
      "weighted avg       0.99      0.99      0.99      4027\n",
      "\n"
     ]
    }
   ],
   "source": [
    "print(classification_report(y_test, y_pred))"
   ]
  },
  {
   "cell_type": "code",
   "execution_count": 19,
   "metadata": {},
   "outputs": [],
   "source": [
    "from sklearn.metrics import confusion_matrix, plot_roc_curve"
   ]
  },
  {
   "cell_type": "code",
   "execution_count": 20,
   "metadata": {},
   "outputs": [
    {
     "name": "stdout",
     "output_type": "stream",
     "text": [
      "[[2012   37]\n",
      " [  17 1961]]\n"
     ]
    }
   ],
   "source": [
    "print(confusion_matrix(y_test, y_pred))"
   ]
  },
  {
   "cell_type": "code",
   "execution_count": 21,
   "metadata": {},
   "outputs": [],
   "source": [
    "model.save('model.h5')"
   ]
  },
  {
   "cell_type": "code",
   "execution_count": null,
   "metadata": {},
   "outputs": [],
   "source": []
  }
 ],
 "metadata": {
  "kernelspec": {
   "display_name": "Python 3",
   "language": "python",
   "name": "python3"
  },
  "language_info": {
   "codemirror_mode": {
    "name": "ipython",
    "version": 3
   },
   "file_extension": ".py",
   "mimetype": "text/x-python",
   "name": "python",
   "nbconvert_exporter": "python",
   "pygments_lexer": "ipython3",
   "version": "3.8.5"
  }
 },
 "nbformat": 4,
 "nbformat_minor": 4
}
